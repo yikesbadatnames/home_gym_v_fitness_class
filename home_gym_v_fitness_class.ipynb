{
 "cells": [
  {
   "cell_type": "code",
   "execution_count": 1,
   "id": "766030d2-f585-45e2-aa1f-61e8279d2b81",
   "metadata": {},
   "outputs": [],
   "source": [
    "# -------------------------------\n",
    "#Importing Dependencies\n",
    "# -------------------------------\n",
    "import csv\n",
    "import os\n",
    "# Organisation Libraries --------\n",
    "import pandas as pd\n",
    "import numpy as np\n",
    "\n",
    "# SQL Libraries\n",
    "from sqlalchemy import create_engine\n",
    "import psycopg2\n",
    "\n",
    "from config import db_password\n",
    "\n",
    "import time\n",
    "\n",
    "\n"
   ]
  },
  {
   "cell_type": "code",
   "execution_count": 3,
   "id": "76a06961-9499-423d-aba4-d13c78f9a2bf",
   "metadata": {},
   "outputs": [],
   "source": [
    "# Importing CSV ------------------------\n",
    "file_to_load = os.path.join(\"resources\", \"multiTimeline.csv\")\n",
    "pd.read_csv(\n"
   ]
  },
  {
   "cell_type": "code",
   "execution_count": 23,
   "id": "32c43103-8e8b-4dc2-890f-d54a151d302d",
   "metadata": {},
   "outputs": [
    {
     "data": {
      "text/plain": [
       "0"
      ]
     },
     "execution_count": 23,
     "metadata": {},
     "output_type": "execute_result"
    }
   ],
   "source": []
  },
  {
   "cell_type": "code",
   "execution_count": null,
   "id": "7617da08-2858-4494-bcb3-d917adb5b371",
   "metadata": {},
   "outputs": [],
   "source": []
  }
 ],
 "metadata": {
  "kernelspec": {
   "display_name": "PythonData",
   "language": "python",
   "name": "pythondata"
  },
  "language_info": {
   "codemirror_mode": {
    "name": "ipython",
    "version": 3
   },
   "file_extension": ".py",
   "mimetype": "text/x-python",
   "name": "python",
   "nbconvert_exporter": "python",
   "pygments_lexer": "ipython3",
   "version": "3.8.8"
  }
 },
 "nbformat": 4,
 "nbformat_minor": 5
}
